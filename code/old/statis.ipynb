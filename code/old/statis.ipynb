{
 "cells": [
  {
   "cell_type": "raw",
   "metadata": {},
   "source": [
    "1. selecionar autores que iniciaram em um mesmo ano\n",
    "2. diminuir a janela de analise para 2000 a 2020\n",
    "3. testar diferentes critérios de corte para os autores de diferentes áreas\n",
    "4. ver distribuição do número de artigos e citações dos autores sem nenhum tipo de filtro <-\n",
    "5. buscar trabalhos relacionados mais recentes, seguir sugestões dos autores\n",
    "6. remover as áres de humanas?\n",
    "7. verificar a quantidade de livros em cada área\n",
    "8. peso da segunda área do autor DONE\n",
    "9. MNCS para implementar? resposta: essa medida não é a melhor solução para normalização e dificulta a interpretação dos resultados\n",
    "refs: https://www.cwts.nl/blog?article=n-q2w274 [under debate]; não precisamos fazer isso pois dados de citações são por área, então as comparações já estão \"normalizadas\", qualquer normalização extra não mudariam os resultados"
   ]
  },
  {
   "cell_type": "raw",
   "metadata": {},
   "source": [
    "modificações [tópico 2]\n",
    "- deixar propriedades fixas no tempo [guardar a idade dos autores para selecionar por ano]\n",
    "- h-index de todo o período + h-index para a janela de tempo reduzida [5?10? anos]\n",
    "\n",
    "[tópicco 4]\n",
    "- depois de olhar a distribuição das medidas: usar o top X% mais citado, remover áreas pequenas\n",
    "\n",
    "[tópico 8]\n",
    "- multiclasse quando a diferença entre os dois pesos são "
   ]
  },
  {
   "cell_type": "code",
   "execution_count": 2,
   "metadata": {},
   "outputs": [],
   "source": [
    "import glob, json\n",
    "import numpy as np\n",
    "import pandas as pd\n",
    "import s4_authors_stats as s4\n",
    "import dask.dataframe as dd\n",
    "import matplotlib.pyplot as plt\n",
    "from scipy.stats import rankdata\n",
    "from scipy.stats import pearsonr, spearmanr\n",
    "from matplotlib.colors import LogNorm\n",
    "\n",
    "from functools import partial\n",
    "from multiprocessing import Pool"
   ]
  },
  {
   "cell_type": "code",
   "execution_count": 2,
   "metadata": {},
   "outputs": [
    {
     "data": {
      "text/html": [
       "<div>\n",
       "<style scoped>\n",
       "    .dataframe tbody tr th:only-of-type {\n",
       "        vertical-align: middle;\n",
       "    }\n",
       "\n",
       "    .dataframe tbody tr th {\n",
       "        vertical-align: top;\n",
       "    }\n",
       "\n",
       "    .dataframe thead th {\n",
       "        text-align: right;\n",
       "    }\n",
       "</style>\n",
       "<table border=\"1\" class=\"dataframe\">\n",
       "  <thead>\n",
       "    <tr style=\"text-align: right;\">\n",
       "      <th></th>\n",
       "      <th>author_id</th>\n",
       "      <th>weights</th>\n",
       "      <th>fos</th>\n",
       "    </tr>\n",
       "  </thead>\n",
       "  <tbody>\n",
       "    <tr>\n",
       "      <th>0</th>\n",
       "      <td>5211</td>\n",
       "      <td>{\"185592680\": 2.5528422503422505, \"192562407\":...</td>\n",
       "      <td>86803240.0</td>\n",
       "    </tr>\n",
       "    <tr>\n",
       "      <th>1</th>\n",
       "      <td>6478</td>\n",
       "      <td>{\"121332964\": 0.10876623376623376, \"71924100\":...</td>\n",
       "      <td>86803240.0</td>\n",
       "    </tr>\n",
       "    <tr>\n",
       "      <th>2</th>\n",
       "      <td>11720</td>\n",
       "      <td>{\"121332964\": 6.0506721056721045, \"185592680\":...</td>\n",
       "      <td>185592680.0</td>\n",
       "    </tr>\n",
       "    <tr>\n",
       "      <th>3</th>\n",
       "      <td>15251</td>\n",
       "      <td>{\"127313418\": 0.39979657687991027, \"86803240\":...</td>\n",
       "      <td>86803240.0</td>\n",
       "    </tr>\n",
       "    <tr>\n",
       "      <th>4</th>\n",
       "      <td>16490</td>\n",
       "      <td>{\"121332964\": 3.018797061524334, \"205649164\": ...</td>\n",
       "      <td>86803240.0</td>\n",
       "    </tr>\n",
       "  </tbody>\n",
       "</table>\n",
       "</div>"
      ],
      "text/plain": [
       "   author_id                                            weights          fos\n",
       "0       5211  {\"185592680\": 2.5528422503422505, \"192562407\":...   86803240.0\n",
       "1       6478  {\"121332964\": 0.10876623376623376, \"71924100\":...   86803240.0\n",
       "2      11720  {\"121332964\": 6.0506721056721045, \"185592680\":...  185592680.0\n",
       "3      15251  {\"127313418\": 0.39979657687991027, \"86803240\":...   86803240.0\n",
       "4      16490  {\"121332964\": 3.018797061524334, \"205649164\": ...   86803240.0"
      ]
     },
     "execution_count": 2,
     "metadata": {},
     "output_type": "execute_result"
    }
   ],
   "source": [
    "SUFFIX = 2020\n",
    "authors_fos = dd.read_csv('data/valid_authors_%d_fos_10a_full.csv' % SUFFIX, sep='\\t', header=None, \n",
    "                          names=['author_id', 'weights', 'fos'], dtype={'fos': 'float64'})\n",
    "\n",
    "# authors_fos = authors_fos.set_index('author_id', sorted=True)\n",
    "\n",
    "authors_fos.head()"
   ]
  },
  {
   "cell_type": "code",
   "execution_count": 14,
   "metadata": {},
   "outputs": [],
   "source": [
    "def autor_weights_analysis(row):\n",
    "    w_dict = json.loads(row['weights'])\n",
    "    w_sum = sum(w_dict.values())\n",
    "    w_max = max(w_dict.values())\n",
    " \n",
    "    max2 = 0\n",
    "    for v in w_dict.values():\n",
    "        if(v >= max2 and v < w_max):\n",
    "            max2 = v\n",
    "    \n",
    "    return w_max/w_sum, max2/w_sum\n",
    "\n",
    "res = authors_fos.dropna(subset=['weights']).apply(autor_weights_analysis, axis=1, meta=(('float','float')))"
   ]
  },
  {
   "cell_type": "code",
   "execution_count": 15,
   "metadata": {},
   "outputs": [
    {
     "data": {
      "text/plain": [
       "0    (0.45647505041255043, 0.4012408818033818)\n",
       "1    (0.43921632280575096, 0.4151200929588689)\n",
       "2    (0.5636558441558442, 0.13445938012604677)\n",
       "3    (0.7728325805169903, 0.12613627420944007)\n",
       "4     (0.5826177980247592, 0.1577357116258263)\n",
       "Name: float, dtype: object"
      ]
     },
     "execution_count": 15,
     "metadata": {},
     "output_type": "execute_result"
    }
   ],
   "source": [
    "res.head()"
   ]
  },
  {
   "cell_type": "code",
   "execution_count": 16,
   "metadata": {},
   "outputs": [
    {
     "data": {
      "text/plain": [
       "0          (0.45647505041255043, 0.4012408818033818)\n",
       "1          (0.43921632280575096, 0.4151200929588689)\n",
       "2          (0.5636558441558442, 0.13445938012604677)\n",
       "3          (0.7728325805169903, 0.12613627420944007)\n",
       "4           (0.5826177980247592, 0.1577357116258263)\n",
       "                             ...                    \n",
       "100248     (0.6097943722943724, 0.24334415584415586)\n",
       "100249     (0.3115854053354053, 0.25239419839419835)\n",
       "100250      (0.780418192918193, 0.07876475376475377)\n",
       "100251      (0.535533185619509, 0.19682200163861283)\n",
       "100252    (0.49751843835177184, 0.11162832179305045)\n",
       "Name: float, Length: 2633341, dtype: object"
      ]
     },
     "execution_count": 16,
     "metadata": {},
     "output_type": "execute_result"
    }
   ],
   "source": [
    "res.compute()"
   ]
  },
  {
   "cell_type": "code",
   "execution_count": 17,
   "metadata": {},
   "outputs": [],
   "source": [
    "x = []\n",
    "y = []\n",
    "for row in res:\n",
    "    x.append(row[0])\n",
    "    y.append(row[1])\n",
    "    "
   ]
  },
  {
   "cell_type": "code",
   "execution_count": 21,
   "metadata": {},
   "outputs": [
    {
     "data": {
      "text/plain": [
       "(array([2.08000e+02, 2.75900e+03, 1.13000e+04, 2.65450e+04, 4.54250e+04,\n",
       "        6.64950e+04, 9.14960e+04, 1.22634e+05, 1.44517e+05, 1.55944e+05,\n",
       "        1.66557e+05, 1.79542e+05, 1.79787e+05, 1.68629e+05, 1.58386e+05,\n",
       "        1.47461e+05, 1.38475e+05, 1.29053e+05, 1.21413e+05, 1.12459e+05,\n",
       "        1.05576e+05, 9.81730e+04, 8.63890e+04, 6.85640e+04, 4.87690e+04,\n",
       "        3.13760e+04, 1.69850e+04, 6.81000e+03, 1.46600e+03, 1.48000e+02]),\n",
       " array([0.09780126, 0.12787455, 0.15794784, 0.18802113, 0.21809443,\n",
       "        0.24816772, 0.27824101, 0.3083143 , 0.33838759, 0.36846088,\n",
       "        0.39853417, 0.42860747, 0.45868076, 0.48875405, 0.51882734,\n",
       "        0.54890063, 0.57897392, 0.60904721, 0.6391205 , 0.6691938 ,\n",
       "        0.69926709, 0.72934038, 0.75941367, 0.78948696, 0.81956025,\n",
       "        0.84963354, 0.87970683, 0.90978013, 0.93985342, 0.96992671,\n",
       "        1.        ]),\n",
       " <BarContainer object of 30 artists>)"
      ]
     },
     "execution_count": 21,
     "metadata": {},
     "output_type": "execute_result"
    },
    {
     "data": {
      "image/png": "[encoded data removed]",
      "text/plain": [
       "<Figure size 432x288 with 1 Axes>"
      ]
     },
     "metadata": {
      "needs_background": "light"
     },
     "output_type": "display_data"
    }
   ],
   "source": [
    "plt.hist(x,bins=30)"
   ]
  },
  {
   "cell_type": "code",
   "execution_count": 22,
   "metadata": {},
   "outputs": [
    {
     "data": {
      "text/plain": [
       "(array([6.16000e+02, 1.04230e+04, 3.24160e+04, 5.85100e+04, 8.66100e+04,\n",
       "        1.10506e+05, 1.27170e+05, 1.40729e+05, 1.55090e+05, 1.67762e+05,\n",
       "        1.78249e+05, 1.80442e+05, 1.78389e+05, 1.70279e+05, 1.59702e+05,\n",
       "        1.48934e+05, 1.36126e+05, 1.21803e+05, 1.04596e+05, 8.70600e+04,\n",
       "        7.12560e+04, 5.78600e+04, 4.74920e+04, 3.82400e+04, 2.89000e+04,\n",
       "        1.93040e+04, 1.05260e+04, 3.67500e+03, 6.35000e+02, 4.10000e+01]),\n",
       " array([0.        , 0.01662698, 0.03325397, 0.04988095, 0.06650794,\n",
       "        0.08313492, 0.0997619 , 0.11638889, 0.13301587, 0.14964286,\n",
       "        0.16626984, 0.18289683, 0.19952381, 0.21615079, 0.23277778,\n",
       "        0.24940476, 0.26603175, 0.28265873, 0.29928571, 0.3159127 ,\n",
       "        0.33253968, 0.34916667, 0.36579365, 0.38242063, 0.39904762,\n",
       "        0.4156746 , 0.43230159, 0.44892857, 0.46555556, 0.48218254,\n",
       "        0.49880952]),\n",
       " <BarContainer object of 30 artists>)"
      ]
     },
     "execution_count": 22,
     "metadata": {},
     "output_type": "execute_result"
    },
    {
     "data": {
      "image/png": "[encoded data removed]",
      "text/plain": [
       "<Figure size 432x288 with 1 Axes>"
      ]
     },
     "metadata": {
      "needs_background": "light"
     },
     "output_type": "display_data"
    }
   ],
   "source": [
    "plt.hist(y, bins=30)\n",
    "\n",
    "# TODO: utilizar o disparity filter [alpha 0.01/0.05/0.1???], verificar a quantidade de autores em diferentes áreas"
   ]
  },
  {
   "cell_type": "code",
   "execution_count": null,
   "metadata": {},
   "outputs": [],
   "source": [
    "_ = plt.hist2d(x, y, bins=30)\n",
    "# plt.colorbar()"
   ]
  },
  {
   "cell_type": "code",
   "execution_count": 4,
   "metadata": {},
   "outputs": [],
   "source": [
    "SUFFIX = 2020"
   ]
  },
  {
   "cell_type": "code",
   "execution_count": 5,
   "metadata": {},
   "outputs": [
    {
     "data": {
      "text/html": [
       "<div>\n",
       "<style scoped>\n",
       "    .dataframe tbody tr th:only-of-type {\n",
       "        vertical-align: middle;\n",
       "    }\n",
       "\n",
       "    .dataframe tbody tr th {\n",
       "        vertical-align: top;\n",
       "    }\n",
       "\n",
       "    .dataframe thead th {\n",
       "        text-align: right;\n",
       "    }\n",
       "</style>\n",
       "<table border=\"1\" class=\"dataframe\">\n",
       "  <thead>\n",
       "    <tr style=\"text-align: right;\">\n",
       "      <th></th>\n",
       "      <th>birth_year</th>\n",
       "      <th>citation_count</th>\n",
       "    </tr>\n",
       "    <tr>\n",
       "      <th>author_id</th>\n",
       "      <th></th>\n",
       "      <th></th>\n",
       "    </tr>\n",
       "  </thead>\n",
       "  <tbody>\n",
       "    <tr>\n",
       "      <th>584</th>\n",
       "      <td>2012</td>\n",
       "      <td>[3.0, 5.0, 0, 2.0, 1.0]</td>\n",
       "    </tr>\n",
       "    <tr>\n",
       "      <th>859</th>\n",
       "      <td>1940</td>\n",
       "      <td>[0, 2.0, 0]</td>\n",
       "    </tr>\n",
       "    <tr>\n",
       "      <th>978</th>\n",
       "      <td>2009</td>\n",
       "      <td>[0, 4.0, 7.0, 1.0, 0, 24.0, 0, 2.0, 0, 5.0, 6....</td>\n",
       "    </tr>\n",
       "    <tr>\n",
       "      <th>1139</th>\n",
       "      <td>2003</td>\n",
       "      <td>[0, 1.0, 0, 5.0]</td>\n",
       "    </tr>\n",
       "    <tr>\n",
       "      <th>1476</th>\n",
       "      <td>2008</td>\n",
       "      <td>[0]</td>\n",
       "    </tr>\n",
       "  </tbody>\n",
       "</table>\n",
       "</div>"
      ],
      "text/plain": [
       "           birth_year                                     citation_count\n",
       "author_id                                                               \n",
       "584              2012                            [3.0, 5.0, 0, 2.0, 1.0]\n",
       "859              1940                                        [0, 2.0, 0]\n",
       "978              2009  [0, 4.0, 7.0, 1.0, 0, 24.0, 0, 2.0, 0, 5.0, 6....\n",
       "1139             2003                                   [0, 1.0, 0, 5.0]\n",
       "1476             2008                                                [0]"
      ]
     },
     "execution_count": 5,
     "metadata": {},
     "output_type": "execute_result"
    }
   ],
   "source": [
    "authors_infos = dd.read_csv('data/authors_infos_full_10a_final_%d' % SUFFIX, sep='\\t', header=None, \n",
    "                            names=['author_id', 'birth_year', 'citation_count'])\n",
    "authors_infos = authors_infos.set_index('author_id', sorted=True)\n",
    "authors_infos.head()"
   ]
  },
  {
   "cell_type": "code",
   "execution_count": null,
   "metadata": {},
   "outputs": [],
   "source": []
  }
 ],
 "metadata": {
  "kernelspec": {
   "display_name": "Python 3",
   "language": "python",
   "name": "python3"
  },
  "language_info": {
   "codemirror_mode": {
    "name": "ipython",
    "version": 3
   },
   "file_extension": ".py",
   "mimetype": "text/x-python",
   "name": "python",
   "nbconvert_exporter": "python",
   "pygments_lexer": "ipython3",
   "version": "3.8.3"
  }
 },
 "nbformat": 4,
 "nbformat_minor": 4
}
