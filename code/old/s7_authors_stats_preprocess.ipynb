{
 "cells": [
  {
   "cell_type": "code",
   "execution_count": 1,
   "metadata": {},
   "outputs": [],
   "source": [
    "%load_ext autoreload\n",
    "%autoreload 2"
   ]
  },
  {
   "cell_type": "code",
   "execution_count": 2,
   "metadata": {},
   "outputs": [],
   "source": [
    "import glob, json, tqdm\n",
    "import numpy as np\n",
    "import pandas as pd\n",
    "import s4_authors_stats as s4\n",
    "import dask.dataframe as dd\n",
    "import matplotlib.pyplot as plt\n",
    "from scipy.stats import rankdata\n",
    "from scipy.stats import pearsonr, spearmanr\n",
    "from matplotlib.colors import LogNorm\n",
    "\n",
    "from collections import defaultdict\n",
    "from functools import partial\n",
    "from multiprocessing import Pool\n",
    "from tqdm.contrib.concurrent import process_map"
   ]
  },
  {
   "cell_type": "code",
   "execution_count": 3,
   "metadata": {},
   "outputs": [],
   "source": [
    "plt.rcParams[\"axes.prop_cycle\"] = plt.cycler(\"color\", plt.cm.tab20.colors)\n",
    "NCOLS = 4\n",
    "SUFFIX = 2020\n",
    "SUFFIX_STR = '_%d' % SUFFIX"
   ]
  },
  {
   "cell_type": "code",
   "execution_count": 4,
   "metadata": {},
   "outputs": [],
   "source": [
    "header = '/mnt/e/MAG/mag-2021-01-05/advanced/'\n",
    "fields_infos = 'FieldsOfStudy.txt'\n",
    "fos_infos = pd.read_csv(header+fields_infos, header=None, sep='\\t')[[0, 1, 2]]\n",
    "fos_infos.columns = ['field_id', 'rank', 'normalized_name']"
   ]
  },
  {
   "cell_type": "code",
   "execution_count": null,
   "metadata": {},
   "outputs": [],
   "source": [
    "# pairs_authors_dd = dd.read_csv('data/pair_csv_%d_byAuthorIDprocessed_pairs.csv' % SUFFIX, sep='\\t', header=None, names=['author_id', 'cits'])\n",
    "# pairs_authors_dd = dd.read_csv('data/pair_csv_10a_%dmerged_processed.csv' % SUFFIX, sep='\\t', header=None, names=['author_id', 'cits'])\n",
    "pairs_authors_dd = dd.read_csv('data/PairAuthors2csv_split/pair_csv_year_rev1_%d_*' % SUFFIX, sep='\\t', header=None, names=['author_id', 'cits'])\n",
    "pairs_authors_dd = pairs_authors_dd.set_index('author_id', sorted=True)\n",
    "pairs_authors_dd.head()"
   ]
  },
  {
   "cell_type": "code",
   "execution_count": null,
   "metadata": {},
   "outputs": [],
   "source": [
    "authors_infos = dd.read_csv('data/authors_infos_full_10a_final_%d' % SUFFIX, sep='\\t', header=None, \n",
    "                            names=['author_id', 'birth_year', 'citation_count'])\n",
    "authors_infos = authors_infos.set_index('author_id', sorted=True)\n",
    "authors_infos.head()"
   ]
  },
  {
   "cell_type": "code",
   "execution_count": 4,
   "metadata": {},
   "outputs": [
    {
     "ename": "NameError",
     "evalue": "name 'pairs_authors_dd' is not defined",
     "output_type": "error",
     "traceback": [
      "\u001b[0;31m---------------------------------------------------------------------------\u001b[0m",
      "\u001b[0;31mNameError\u001b[0m                                 Traceback (most recent call last)",
      "\u001b[0;32m<ipython-input-4-b2cabe033ac6>\u001b[0m in \u001b[0;36m<module>\u001b[0;34m\u001b[0m\n\u001b[0;32m----> 1\u001b[0;31m \u001b[0mpairs_authors_dd2\u001b[0m \u001b[0;34m=\u001b[0m \u001b[0mpairs_authors_dd\u001b[0m\u001b[0;34m.\u001b[0m\u001b[0mmerge\u001b[0m\u001b[0;34m(\u001b[0m\u001b[0mauthors_infos\u001b[0m\u001b[0;34m,\u001b[0m \u001b[0mleft_index\u001b[0m\u001b[0;34m=\u001b[0m\u001b[0;32mTrue\u001b[0m\u001b[0;34m,\u001b[0m \u001b[0mright_index\u001b[0m\u001b[0;34m=\u001b[0m\u001b[0;32mTrue\u001b[0m\u001b[0;34m)\u001b[0m\u001b[0;34m\u001b[0m\u001b[0;34m\u001b[0m\u001b[0m\n\u001b[0m\u001b[1;32m      2\u001b[0m \u001b[0mpairs_authors_dd2\u001b[0m\u001b[0;34m.\u001b[0m\u001b[0mhead\u001b[0m\u001b[0;34m(\u001b[0m\u001b[0;34m)\u001b[0m\u001b[0;34m\u001b[0m\u001b[0;34m\u001b[0m\u001b[0m\n",
      "\u001b[0;31mNameError\u001b[0m: name 'pairs_authors_dd' is not defined"
     ]
    }
   ],
   "source": [
    "pairs_authors_dd2 = pairs_authors_dd.merge(authors_infos, left_index=True, right_index=True)\n",
    "pairs_authors_dd2.head()"
   ]
  },
  {
   "cell_type": "code",
   "execution_count": null,
   "metadata": {},
   "outputs": [],
   "source": []
  },
  {
   "cell_type": "code",
   "execution_count": null,
   "metadata": {},
   "outputs": [],
   "source": [
    "authors_fos = dd.read_csv('data/valid_authors_%d_fos_div_filter.csv' % SUFFIX, sep='\\t', header=None, \n",
    "                          names=['author_id', 'weights', 'fos'], dtype={'fos': 'str'})\n",
    "\n",
    "# authors_fos = authors_fos.set_index('author_id', sorted=True)\n",
    "\n",
    "authors_fos.head()"
   ]
  },
  {
   "cell_type": "code",
   "execution_count": 24,
   "metadata": {},
   "outputs": [
    {
     "data": {
      "text/plain": [
       "2633341"
      ]
     },
     "execution_count": 24,
     "metadata": {},
     "output_type": "execute_result"
    }
   ],
   "source": [
    "len(authors_fos)"
   ]
  },
  {
   "cell_type": "code",
   "execution_count": 102,
   "metadata": {},
   "outputs": [
    {
     "data": {
      "text/plain": [
       "2633343"
      ]
     },
     "execution_count": 102,
     "metadata": {},
     "output_type": "execute_result"
    }
   ],
   "source": [
    "len(authors_fos['author_id'].unique())"
   ]
  },
  {
   "cell_type": "code",
   "execution_count": 3,
   "metadata": {},
   "outputs": [
    {
     "ename": "NameError",
     "evalue": "name 'pairs_authors_dd2' is not defined",
     "output_type": "error",
     "traceback": [
      "\u001b[0;31m---------------------------------------------------------------------------\u001b[0m",
      "\u001b[0;31mNameError\u001b[0m                                 Traceback (most recent call last)",
      "\u001b[0;32m<ipython-input-3-442e0ce26456>\u001b[0m in \u001b[0;36m<module>\u001b[0;34m\u001b[0m\n\u001b[0;32m----> 1\u001b[0;31m \u001b[0mauthors_complete\u001b[0m \u001b[0;34m=\u001b[0m \u001b[0mpairs_authors_dd2\u001b[0m\u001b[0;34m.\u001b[0m\u001b[0mmerge\u001b[0m\u001b[0;34m(\u001b[0m\u001b[0mauthors_fos\u001b[0m\u001b[0;34m,\u001b[0m \u001b[0mon\u001b[0m\u001b[0;34m=\u001b[0m\u001b[0;34m'author_id'\u001b[0m\u001b[0;34m)\u001b[0m\u001b[0;34m\u001b[0m\u001b[0;34m\u001b[0m\u001b[0m\n\u001b[0m\u001b[1;32m      2\u001b[0m \u001b[0mauthors_complete\u001b[0m\u001b[0;34m.\u001b[0m\u001b[0mhead\u001b[0m\u001b[0;34m(\u001b[0m\u001b[0;36m5\u001b[0m\u001b[0;34m)\u001b[0m\u001b[0;34m\u001b[0m\u001b[0;34m\u001b[0m\u001b[0m\n",
      "\u001b[0;31mNameError\u001b[0m: name 'pairs_authors_dd2' is not defined"
     ]
    }
   ],
   "source": [
    "authors_complete = pairs_authors_dd2.merge(authors_fos, on='author_id')\n",
    "authors_complete.head(5)"
   ]
  },
  {
   "cell_type": "code",
   "execution_count": null,
   "metadata": {},
   "outputs": [],
   "source": [
    "from dask.diagnostics import ProgressBar\n",
    "with ProgressBar():\n",
    "    authors_complete.to_csv('data/authors_metrics_full_rev2_%d' % SUFFIX, sep='\\t', header=None, index=None, single_file=True)"
   ]
  },
  {
   "cell_type": "code",
   "execution_count": 5,
   "metadata": {},
   "outputs": [
    {
     "data": {
      "text/html": [
       "<div>\n",
       "<style scoped>\n",
       "    .dataframe tbody tr th:only-of-type {\n",
       "        vertical-align: middle;\n",
       "    }\n",
       "\n",
       "    .dataframe tbody tr th {\n",
       "        vertical-align: top;\n",
       "    }\n",
       "\n",
       "    .dataframe thead th {\n",
       "        text-align: right;\n",
       "    }\n",
       "</style>\n",
       "<table border=\"1\" class=\"dataframe\">\n",
       "  <thead>\n",
       "    <tr style=\"text-align: right;\">\n",
       "      <th></th>\n",
       "      <th>none</th>\n",
       "      <th>author_id</th>\n",
       "      <th>weights</th>\n",
       "      <th>fos</th>\n",
       "      <th>cits</th>\n",
       "      <th>birth_year</th>\n",
       "      <th>citation_count</th>\n",
       "    </tr>\n",
       "  </thead>\n",
       "  <tbody>\n",
       "    <tr>\n",
       "      <th>0</th>\n",
       "      <td>0</td>\n",
       "      <td>584</td>\n",
       "      <td>{\"15744967\": 2.772012987012987, \"71924100\": 0....</td>\n",
       "      <td>144024400,71924100,138885662,15744967</td>\n",
       "      <td>\"{\"\"2058808210\"\": [3], \"\"2652291164\"\": [0, 2],...</td>\n",
       "      <td>2012.0</td>\n",
       "      <td>[3.0, 5.0, 0, 2.0, 1.0]</td>\n",
       "    </tr>\n",
       "    <tr>\n",
       "      <th>1</th>\n",
       "      <td>1</td>\n",
       "      <td>978</td>\n",
       "      <td>{\"138885662\": 3.64297619047619, \"142362112\": 3...</td>\n",
       "      <td>86803240,71924100,205649164,17744445,144024400...</td>\n",
       "      <td>\"{\"\"2098507463\"\": [1], \"\"2099554650\"\": [0, 2],...</td>\n",
       "      <td>2009.0</td>\n",
       "      <td>[0, 4.0, 7.0, 1.0, 0, 24.0, 0, 2.0, 0, 5.0, 6....</td>\n",
       "    </tr>\n",
       "    <tr>\n",
       "      <th>2</th>\n",
       "      <td>2</td>\n",
       "      <td>1799</td>\n",
       "      <td>{\"86803240\": 0.49384615384615393, \"71924100\": ...</td>\n",
       "      <td>71924100,86803240</td>\n",
       "      <td>\"{\"\"1793102158\"\": [93], \"\"1879605687\"\": [93], ...</td>\n",
       "      <td>2011.0</td>\n",
       "      <td>[93.0]</td>\n",
       "    </tr>\n",
       "    <tr>\n",
       "      <th>3</th>\n",
       "      <td>3</td>\n",
       "      <td>2255</td>\n",
       "      <td>{\"41008148\": 2.0681818181818183, \"127413603\": ...</td>\n",
       "      <td>17744445,127413603,41008148</td>\n",
       "      <td>\"{\"\"2123722083\"\": [7], \"\"2146882372\"\": [7], \"\"...</td>\n",
       "      <td>2010.0</td>\n",
       "      <td>[3.0, 14.0, 7.0]</td>\n",
       "    </tr>\n",
       "    <tr>\n",
       "      <th>4</th>\n",
       "      <td>4</td>\n",
       "      <td>2722</td>\n",
       "      <td>{\"127413603\": 0.27929292929292926, \"144133560\"...</td>\n",
       "      <td>127313418,192562407,138885662,33923547,1274136...</td>\n",
       "      <td>\"{\"\"2050489017\"\": [18, 1]}\"</td>\n",
       "      <td>2009.0</td>\n",
       "      <td>[18.0, 1.0]</td>\n",
       "    </tr>\n",
       "  </tbody>\n",
       "</table>\n",
       "</div>"
      ],
      "text/plain": [
       "   none  author_id                                            weights  \\\n",
       "0     0        584  {\"15744967\": 2.772012987012987, \"71924100\": 0....   \n",
       "1     1        978  {\"138885662\": 3.64297619047619, \"142362112\": 3...   \n",
       "2     2       1799  {\"86803240\": 0.49384615384615393, \"71924100\": ...   \n",
       "3     3       2255  {\"41008148\": 2.0681818181818183, \"127413603\": ...   \n",
       "4     4       2722  {\"127413603\": 0.27929292929292926, \"144133560\"...   \n",
       "\n",
       "                                                 fos  \\\n",
       "0              144024400,71924100,138885662,15744967   \n",
       "1  86803240,71924100,205649164,17744445,144024400...   \n",
       "2                                  71924100,86803240   \n",
       "3                        17744445,127413603,41008148   \n",
       "4  127313418,192562407,138885662,33923547,1274136...   \n",
       "\n",
       "                                                cits  birth_year  \\\n",
       "0  \"{\"\"2058808210\"\": [3], \"\"2652291164\"\": [0, 2],...      2012.0   \n",
       "1  \"{\"\"2098507463\"\": [1], \"\"2099554650\"\": [0, 2],...      2009.0   \n",
       "2  \"{\"\"1793102158\"\": [93], \"\"1879605687\"\": [93], ...      2011.0   \n",
       "3  \"{\"\"2123722083\"\": [7], \"\"2146882372\"\": [7], \"\"...      2010.0   \n",
       "4                        \"{\"\"2050489017\"\": [18, 1]}\"      2009.0   \n",
       "\n",
       "                                      citation_count  \n",
       "0                            [3.0, 5.0, 0, 2.0, 1.0]  \n",
       "1  [0, 4.0, 7.0, 1.0, 0, 24.0, 0, 2.0, 0, 5.0, 6....  \n",
       "2                                             [93.0]  \n",
       "3                                   [3.0, 14.0, 7.0]  \n",
       "4                                        [18.0, 1.0]  "
      ]
     },
     "execution_count": 5,
     "metadata": {},
     "output_type": "execute_result"
    }
   ],
   "source": [
    "from s4_authors_stats import _step_1\n",
    "\n",
    "authors_complete = dd.read_csv('data/authors_metrics_full_rev2_%d_a*' % SUFFIX, sep='\\t', header=None)\n",
    "authors_complete.columns = ['none', 'author_id', 'weights', 'fos', 'cits', 'birth_year', 'citation_count']\n",
    "\n",
    "def sum_cits(row):\n",
    "    c = sum(json.loads(row['citation_count']))\n",
    "    return c\n",
    "\n",
    "# authors_complete = authors_complete[authors_complete.apply(sum_cits, meta=(int), axis=1) > 0]\n",
    "authors_complete.head()"
   ]
  },
  {
   "cell_type": "code",
   "execution_count": null,
   "metadata": {},
   "outputs": [
    {
     "name": "stderr",
     "output_type": "stream",
     "text": [
      "3489582it [09:00, 6934.85it/s]"
     ]
    },
    {
     "name": "stdout",
     "output_type": "stream",
     "text": [
      "1930629008\n",
      "citation list nan\n"
     ]
    },
    {
     "name": "stderr",
     "output_type": "stream",
     "text": [
      "6570525it [17:06, 6930.84it/s]"
     ]
    },
    {
     "name": "stdout",
     "output_type": "stream",
     "text": [
      "2077839809\n",
      "citation list nan\n"
     ]
    },
    {
     "name": "stderr",
     "output_type": "stream",
     "text": [
      "9980937it [25:47, 7042.80it/s]"
     ]
    },
    {
     "name": "stdout",
     "output_type": "stream",
     "text": [
      "2127197801\n",
      "citation list nan\n"
     ]
    },
    {
     "name": "stderr",
     "output_type": "stream",
     "text": [
      "13318071it [34:37, 7386.15it/s]"
     ]
    },
    {
     "name": "stdout",
     "output_type": "stream",
     "text": [
      "2167223198\n",
      "citation list nan\n"
     ]
    },
    {
     "name": "stderr",
     "output_type": "stream",
     "text": [
      "16789990it [42:51, 8183.84it/s]"
     ]
    }
   ],
   "source": [
    "H, C, P, WS, WP, CL, Y, CH, FOS = s4.step_1(authors_complete)"
   ]
  },
  {
   "cell_type": "code",
   "execution_count": 29,
   "metadata": {},
   "outputs": [
    {
     "data": {
      "text/plain": [
       "2630275"
      ]
     },
     "execution_count": 29,
     "metadata": {},
     "output_type": "execute_result"
    }
   ],
   "source": [
    "len(authors_complete['author_id'].unique())"
   ]
  },
  {
   "cell_type": "code",
   "execution_count": 1,
   "metadata": {},
   "outputs": [
    {
     "ename": "NameError",
     "evalue": "name 'SUFFIX' is not defined",
     "output_type": "error",
     "traceback": [
      "\u001b[0;31m---------------------------------------------------------------------------\u001b[0m",
      "\u001b[0;31mNameError\u001b[0m                                 Traceback (most recent call last)",
      "\u001b[0;32m<ipython-input-1-817b2c014625>\u001b[0m in \u001b[0;36m<module>\u001b[0;34m\u001b[0m\n\u001b[0;32m----> 1\u001b[0;31m \u001b[0mopen\u001b[0m\u001b[0;34m(\u001b[0m\u001b[0;34m'results/hindex_rev2_full_%d.json'\u001b[0m \u001b[0;34m%\u001b[0m \u001b[0mSUFFIX\u001b[0m\u001b[0;34m,\u001b[0m\u001b[0;34m'w'\u001b[0m\u001b[0;34m)\u001b[0m\u001b[0;34m.\u001b[0m\u001b[0mwrite\u001b[0m\u001b[0;34m(\u001b[0m\u001b[0mjson\u001b[0m\u001b[0;34m.\u001b[0m\u001b[0mdumps\u001b[0m\u001b[0;34m(\u001b[0m\u001b[0mH\u001b[0m\u001b[0;34m,\u001b[0m \u001b[0mindent\u001b[0m\u001b[0;34m=\u001b[0m\u001b[0;36m4\u001b[0m\u001b[0;34m)\u001b[0m\u001b[0;34m)\u001b[0m\u001b[0;34m\u001b[0m\u001b[0;34m\u001b[0m\u001b[0m\n\u001b[0m\u001b[1;32m      2\u001b[0m \u001b[0mopen\u001b[0m\u001b[0;34m(\u001b[0m\u001b[0;34m'results/cits_rev2_full_%d.json'\u001b[0m \u001b[0;34m%\u001b[0m \u001b[0mSUFFIX\u001b[0m\u001b[0;34m,\u001b[0m\u001b[0;34m'w'\u001b[0m\u001b[0;34m)\u001b[0m\u001b[0;34m.\u001b[0m\u001b[0mwrite\u001b[0m\u001b[0;34m(\u001b[0m\u001b[0mjson\u001b[0m\u001b[0;34m.\u001b[0m\u001b[0mdumps\u001b[0m\u001b[0;34m(\u001b[0m\u001b[0mC\u001b[0m\u001b[0;34m,\u001b[0m \u001b[0mindent\u001b[0m\u001b[0;34m=\u001b[0m\u001b[0;36m4\u001b[0m\u001b[0;34m)\u001b[0m\u001b[0;34m)\u001b[0m\u001b[0;34m\u001b[0m\u001b[0;34m\u001b[0m\u001b[0m\n\u001b[1;32m      3\u001b[0m \u001b[0mopen\u001b[0m\u001b[0;34m(\u001b[0m\u001b[0;34m'results/papers_rev2_full_%d.json'\u001b[0m \u001b[0;34m%\u001b[0m \u001b[0mSUFFIX\u001b[0m\u001b[0;34m,\u001b[0m\u001b[0;34m'w'\u001b[0m\u001b[0;34m)\u001b[0m\u001b[0;34m.\u001b[0m\u001b[0mwrite\u001b[0m\u001b[0;34m(\u001b[0m\u001b[0mjson\u001b[0m\u001b[0;34m.\u001b[0m\u001b[0mdumps\u001b[0m\u001b[0;34m(\u001b[0m\u001b[0mP\u001b[0m\u001b[0;34m,\u001b[0m \u001b[0mindent\u001b[0m\u001b[0;34m=\u001b[0m\u001b[0;36m4\u001b[0m\u001b[0;34m)\u001b[0m\u001b[0;34m)\u001b[0m\u001b[0;34m\u001b[0m\u001b[0;34m\u001b[0m\u001b[0m\n\u001b[1;32m      4\u001b[0m \u001b[0mopen\u001b[0m\u001b[0;34m(\u001b[0m\u001b[0;34m'results/ws_rev2_full_%d.json'\u001b[0m \u001b[0;34m%\u001b[0m \u001b[0mSUFFIX\u001b[0m\u001b[0;34m,\u001b[0m\u001b[0;34m'w'\u001b[0m\u001b[0;34m)\u001b[0m\u001b[0;34m.\u001b[0m\u001b[0mwrite\u001b[0m\u001b[0;34m(\u001b[0m\u001b[0mjson\u001b[0m\u001b[0;34m.\u001b[0m\u001b[0mdumps\u001b[0m\u001b[0;34m(\u001b[0m\u001b[0mWS\u001b[0m\u001b[0;34m,\u001b[0m \u001b[0mindent\u001b[0m\u001b[0;34m=\u001b[0m\u001b[0;36m4\u001b[0m\u001b[0;34m)\u001b[0m\u001b[0;34m)\u001b[0m\u001b[0;34m\u001b[0m\u001b[0;34m\u001b[0m\u001b[0m\n\u001b[1;32m      5\u001b[0m \u001b[0mopen\u001b[0m\u001b[0;34m(\u001b[0m\u001b[0;34m'results/wp_rev2_full_%d.json'\u001b[0m \u001b[0;34m%\u001b[0m \u001b[0mSUFFIX\u001b[0m\u001b[0;34m,\u001b[0m\u001b[0;34m'w'\u001b[0m\u001b[0;34m)\u001b[0m\u001b[0;34m.\u001b[0m\u001b[0mwrite\u001b[0m\u001b[0;34m(\u001b[0m\u001b[0mjson\u001b[0m\u001b[0;34m.\u001b[0m\u001b[0mdumps\u001b[0m\u001b[0;34m(\u001b[0m\u001b[0mWP\u001b[0m\u001b[0;34m,\u001b[0m \u001b[0mindent\u001b[0m\u001b[0;34m=\u001b[0m\u001b[0;36m4\u001b[0m\u001b[0;34m)\u001b[0m\u001b[0;34m)\u001b[0m\u001b[0;34m\u001b[0m\u001b[0;34m\u001b[0m\u001b[0m\n",
      "\u001b[0;31mNameError\u001b[0m: name 'SUFFIX' is not defined"
     ]
    }
   ],
   "source": [
    "open('results/hindex_rev2_full_%d.json' % SUFFIX,'w').write(json.dumps(H, indent=4))\n",
    "open('results/cits_rev2_full_%d.json' % SUFFIX,'w').write(json.dumps(C, indent=4))\n",
    "open('results/papers_rev2_full_%d.json' % SUFFIX,'w').write(json.dumps(P, indent=4))\n",
    "open('results/ws_rev2_full_%d.json' % SUFFIX,'w').write(json.dumps(WS, indent=4))\n",
    "open('results/wp_rev2_full_%d.json' % SUFFIX,'w').write(json.dumps(WP, indent=4))\n",
    "open('results/citlist_rev2_full_%d.json' % SUFFIX,'w').write(json.dumps(CL, indent=4))\n",
    "open('results/birth_rev2_full_%d.json' % SUFFIX, 'w').write(json.dumps(Y, indent=4))\n",
    "open('results/fos_rev2_full_%d.json' % SUFFIX,'w').write(json.dumps(FOS, indent=4))\n",
    "open('results/ch_rev2_full_%d.json' % SUFFIX, 'w').write(json.dumps(CH, indent=4))"
   ]
  },
  {
   "cell_type": "markdown",
   "metadata": {},
   "source": [
    "### Some statistics..."
   ]
  },
  {
   "cell_type": "code",
   "execution_count": 31,
   "metadata": {},
   "outputs": [],
   "source": []
  },
  {
   "cell_type": "code",
   "execution_count": 7,
   "metadata": {},
   "outputs": [
    {
     "name": "stdout",
     "output_type": "stream",
     "text": [
      "    author_id          fos  n_authors\n",
      "0  2632943989   71924100.0         27\n",
      "1  2632944995   71924100.0         10\n",
      "2  2633122112  121332964.0        100\n",
      "3  2633175297  185592680.0         38\n",
      "4  2633712990   71924100.0         53\n"
     ]
    },
    {
     "data": {
      "text/plain": [
       "['/mnt/e/Ana/author_dep/colabs_per_author_results.csv']"
      ]
     },
     "execution_count": 7,
     "metadata": {},
     "output_type": "execute_result"
    }
   ],
   "source": [
    "def cit_count(data):\n",
    "    return data.apply(lambda x: x.cits.count('['), meta=(int), axis=1)\n",
    "    \n",
    "colabs_per_author = authors_complete.assign(n_authors=cit_count)[['author_id', 'fos', 'n_authors']]\n",
    "\n",
    "print(colabs_per_author.head())\n",
    "\n",
    "results = colabs_per_author.groupby('fos')['n_authors'].apply(list, meta=('n_authors_per_fos', object))"
   ]
  },
  {
   "cell_type": "code",
   "execution_count": 12,
   "metadata": {},
   "outputs": [
    {
     "name": "stdout",
     "output_type": "stream",
     "text": [
      "    Unnamed: 0                                  n_authors_per_fos\n",
      "0   71924100.0  [57, 66, 172, 232, 28, 74, 96, 135, 166, 116, ...\n",
      "1  144133560.0  [69, 40, 41, 66, 40, 50, 19, 51, 3, 40, 33, 10...\n",
      "2  185592680.0  [141, 169, 71, 101, 11, 53, 43, 118, 30, 71, 3...\n",
      "3  138885662.0  [15, 23, 48, 124, 32, 30, 5, 2, 8, 9, 5, 5, 18...\n",
      "4   41008148.0  [74, 25, 22, 5, 76, 20, 122, 44, 112, 67, 13, ...\n",
      "history 22.406 27.388\n",
      "art 26.496 36.187\n",
      "philosophy 21.068 26.452\n",
      "sociology 22.177 26.208\n",
      "political science 24.719 29.772\n",
      "population 34.081 40.590\n",
      "economics 30.021 36.258\n",
      "mathematics 34.169 42.648\n",
      "business 29.660 35.099\n",
      "geology 76.280 89.422\n",
      "psychology 43.658 53.727\n",
      "geography 56.792 65.887\n",
      "engineering 46.300 57.010\n",
      "computer science 47.405 58.816\n",
      "environmental science 58.489 68.571\n",
      "physics 68.416 84.319\n",
      "medicine 91.420 112.763\n",
      "biology 71.278 87.521\n",
      "chemistry 63.759 80.599\n",
      "materials science 63.823 79.731\n"
     ]
    },
    {
     "data": {
      "image/png": "[encoded data removed]",
      "text/plain": [
       "<Figure size 864x864 with 20 Axes>"
      ]
     },
     "metadata": {
      "needs_background": "light"
     },
     "output_type": "display_data"
    }
   ],
   "source": [
    "fos_sorted = [95457728.0, 142362112.0, 138885662.0, 144024400.0, 17744445.0, 2908647359.0, \n",
    "              162324750.0, 33923547.0, 144133560.0, 127313418.0, 15744967.0, 205649164.0,\n",
    "              127413603.0, 41008148.0, 39432304.0, 121332964.0, 71924100.0, 86803240.0, 185592680.0, 192562407.0]\n",
    "results = pd.read_csv('colabs_per_author_results.csv', sep='\\t')\n",
    "print(results.head())\n",
    "fig,axes = plt.subplots(figsize=(12, 12), nrows=4, ncols=5)\n",
    "i = 0\n",
    "axes = axes.ravel()\n",
    "\n",
    "for f in fos_sorted:\n",
    "\n",
    "    for idx, row in results.iterrows():\n",
    "        field = row[0]\n",
    "        if f == field:\n",
    "            fos_dist = json.loads(row['n_authors_per_fos'])\n",
    "            axes[i].hist(fos_dist, range=(0, 1000), color='gray')\n",
    "            field_name = fos_infos[fos_infos['field_id'] == field].iloc[0, -1]\n",
    "            fos_dist = np.asarray(fos_dist)\n",
    "            p95 = np.percentile(fos_dist, 95)\n",
    "            M = np.mean(fos_dist[fos_dist < p95])\n",
    "            print(\"%s %.3f %.3f\" % (field_name, M, np.mean(fos_dist)))\n",
    "            if i % 5 == 0:\n",
    "                axes[i].set_ylabel('número de autores', fontsize=12)\n",
    "            if i >= 15:\n",
    "                axes[i].set_xlabel('número de colaboradores', fontsize=12)\n",
    "            \n",
    "            axes[i].set_yscale('log')\n",
    "            axes[i].set_title(\"%s \\n(média = %.3f)\" % (field_name, M), fontsize=14)\n",
    "            i += 1\n",
    "    \n",
    "plt.tight_layout()\n",
    "plt.savefig('number_of_colabs_per_fos_%d_percentile95.pdf' % SUFFIX)"
   ]
  },
  {
   "cell_type": "code",
   "execution_count": 33,
   "metadata": {},
   "outputs": [
    {
     "name": "stdout",
     "output_type": "stream",
     "text": [
      "1960 & 1.44\\% & 550\n",
      "1970 & 0.94\\% & 1154\n",
      "1980 & 0.64\\% & 2120\n",
      "1990 & 0.40\\% & 3019\n",
      "2000 & 0.21\\% & 3110\n",
      "2010 & 0.06\\% & 1569\n",
      "2020 & 0.02\\% & 627\n"
     ]
    }
   ],
   "source": [
    "for current_year in [1960, 1970, 1980, 1990, 2000, 2010, 2020]:\n",
    "    colabs_cits = json.load(open('results/citlist_10a_full_%d.json' % current_year))\n",
    "    count_no_colabs = 0\n",
    "    for temp in colabs_cits:\n",
    "        if len(temp) == 0:\n",
    "            count_no_colabs += 1\n",
    "    print(\"%d & %.2f\\%% & %d\" % (current_year, 100*count_no_colabs/len(colabs_cits), count_no_colabs))"
   ]
  },
  {
   "cell_type": "code",
   "execution_count": 9,
   "metadata": {},
   "outputs": [
    {
     "name": "stdout",
     "output_type": "stream",
     "text": [
      "[########################################] | 100% Completed | 53.9s\n",
      "fos\n",
      "15744967       46526\n",
      "17744445       13171\n",
      "33923547       29595\n",
      "39432304         977\n",
      "41008148      101553\n",
      "71924100      352031\n",
      "86803240      300340\n",
      "95457728        1573\n",
      "121332964      86921\n",
      "127313418      25085\n",
      "127413603      66732\n",
      "138885662       4048\n",
      "142362112       2255\n",
      "144024400       5163\n",
      "144133560       5338\n",
      "162324750      25625\n",
      "185592680     158762\n",
      "192562407      60771\n",
      "205649164       2677\n",
      "2908647359       274\n",
      "Name: author_id, dtype: int64\n"
     ]
    }
   ],
   "source": [
    "from dask.diagnostics import ProgressBar\n",
    "with ProgressBar():\n",
    "    authors_per_fos = authors_complete.groupby('fos')['author_id'].count().compute()\n",
    "    print(authors_per_fos)"
   ]
  },
  {
   "cell_type": "code",
   "execution_count": null,
   "metadata": {},
   "outputs": [
    {
     "data": {
      "application/vnd.jupyter.widget-view+json": {
       "model_id": "d752c5828c154b0db4e56d51bd70be88",
       "version_major": 2,
       "version_minor": 0
      },
      "text/plain": [
       "HBox(children=(FloatProgress(value=0.0, max=722.0), HTML(value='')))"
      ]
     },
     "metadata": {},
     "output_type": "display_data"
    }
   ],
   "source": [
    "files = glob.glob('data_temp/FOS_split/fields_papers_*.csv')\n",
    "\n",
    "def to_process_papers(file):\n",
    "    papers_fos_dict = defaultdict(lambda:set())\n",
    "    papers_per_fos = pd.read_csv(file, header=None)[[1, 6]]\n",
    "    papers_per_fos.columns = ['paper_id', 'parents_id']\n",
    "    papers_per_fos = papers_per_fos.dropna()\n",
    "    for idx,row in papers_per_fos.iterrows():\n",
    "        for fos in row['parents_id'].split(','):\n",
    "            papers_fos_dict[fos].add(row['paper_id'])\n",
    "            \n",
    "    return papers_fos_dict\n",
    "from multiprocessing import Pool\n",
    "\n",
    "output_maps = process_map(to_process_papers, files, max_workers=16) "
   ]
  },
  {
   "cell_type": "code",
   "execution_count": null,
   "metadata": {},
   "outputs": [],
   "source": []
  }
 ],
 "metadata": {
  "kernelspec": {
   "display_name": "Python 3 (ipykernel)",
   "language": "python",
   "name": "python3"
  },
  "language_info": {
   "codemirror_mode": {
    "name": "ipython",
    "version": 3
   },
   "file_extension": ".py",
   "mimetype": "text/x-python",
   "name": "python",
   "nbconvert_exporter": "python",
   "pygments_lexer": "ipython3",
   "version": "3.8.3"
  }
 },
 "nbformat": 4,
 "nbformat_minor": 4
}
