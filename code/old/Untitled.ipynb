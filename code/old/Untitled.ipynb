{
 "cells": [
  {
   "cell_type": "code",
   "execution_count": 3,
   "metadata": {},
   "outputs": [],
   "source": [
    "import pandas\n",
    "import numpy as np\n",
    "import dask.dataframe as dd\n",
    "\n",
    "import tqdm\n",
    "import json\n",
    "from collections import defaultdict\n",
    "from dask.diagnostics import ProgressBar\n"
   ]
  },
  {
   "cell_type": "code",
   "execution_count": 2,
   "metadata": {},
   "outputs": [],
   "source": [
    "file = 'data/paper_complete_infos.csv'"
   ]
  },
  {
   "cell_type": "code",
   "execution_count": 3,
   "metadata": {},
   "outputs": [
    {
     "data": {
      "text/html": [
       "<div>\n",
       "<style scoped>\n",
       "    .dataframe tbody tr th:only-of-type {\n",
       "        vertical-align: middle;\n",
       "    }\n",
       "\n",
       "    .dataframe tbody tr th {\n",
       "        vertical-align: top;\n",
       "    }\n",
       "\n",
       "    .dataframe thead th {\n",
       "        text-align: right;\n",
       "    }\n",
       "</style>\n",
       "<table border=\"1\" class=\"dataframe\">\n",
       "  <thead>\n",
       "    <tr style=\"text-align: right;\">\n",
       "      <th></th>\n",
       "      <th>paper_id</th>\n",
       "      <th>doi</th>\n",
       "      <th>year</th>\n",
       "      <th>authors</th>\n",
       "      <th>cits</th>\n",
       "      <th>cits_detail</th>\n",
       "    </tr>\n",
       "  </thead>\n",
       "  <tbody>\n",
       "    <tr>\n",
       "      <th>0</th>\n",
       "      <td>9</td>\n",
       "      <td>NaN</td>\n",
       "      <td>2006.0</td>\n",
       "      <td>2632942543</td>\n",
       "      <td>NaN</td>\n",
       "      <td>NaN</td>\n",
       "    </tr>\n",
       "    <tr>\n",
       "      <th>1</th>\n",
       "      <td>15</td>\n",
       "      <td>10.1007/978-3-642-32197-9_8</td>\n",
       "      <td>2013.0</td>\n",
       "      <td>199142497,680395887</td>\n",
       "      <td>NaN</td>\n",
       "      <td>NaN</td>\n",
       "    </tr>\n",
       "    <tr>\n",
       "      <th>2</th>\n",
       "      <td>23</td>\n",
       "      <td>NaN</td>\n",
       "      <td>2012.0</td>\n",
       "      <td>1243978490,2582258949,2582736345</td>\n",
       "      <td>2.0</td>\n",
       "      <td>{\"2019\": 1, \"2020\": 1}</td>\n",
       "    </tr>\n",
       "    <tr>\n",
       "      <th>3</th>\n",
       "      <td>58</td>\n",
       "      <td>NaN</td>\n",
       "      <td>1973.0</td>\n",
       "      <td>2641488431,2693978806</td>\n",
       "      <td>NaN</td>\n",
       "      <td>NaN</td>\n",
       "    </tr>\n",
       "    <tr>\n",
       "      <th>4</th>\n",
       "      <td>79</td>\n",
       "      <td>NaN</td>\n",
       "      <td>2009.0</td>\n",
       "      <td>2662843304,2683440697</td>\n",
       "      <td>NaN</td>\n",
       "      <td>NaN</td>\n",
       "    </tr>\n",
       "  </tbody>\n",
       "</table>\n",
       "</div>"
      ],
      "text/plain": [
       "   paper_id                          doi    year  \\\n",
       "0         9                          NaN  2006.0   \n",
       "1        15  10.1007/978-3-642-32197-9_8  2013.0   \n",
       "2        23                          NaN  2012.0   \n",
       "3        58                          NaN  1973.0   \n",
       "4        79                          NaN  2009.0   \n",
       "\n",
       "                            authors  cits             cits_detail  \n",
       "0                        2632942543   NaN                     NaN  \n",
       "1               199142497,680395887   NaN                     NaN  \n",
       "2  1243978490,2582258949,2582736345   2.0  {\"2019\": 1, \"2020\": 1}  \n",
       "3             2641488431,2693978806   NaN                     NaN  \n",
       "4             2662843304,2683440697   NaN                     NaN  "
      ]
     },
     "execution_count": 3,
     "metadata": {},
     "output_type": "execute_result"
    }
   ],
   "source": [
    "d = dd.read_csv(file, sep='\\t', header=None, names=['paper_id', 'doi', 'year', 'authors', 'cits', 'cits_detail'], \n",
    "                dtype={'authors': str})\n",
    "d.head()"
   ]
  },
  {
   "cell_type": "code",
   "execution_count": 4,
   "metadata": {},
   "outputs": [],
   "source": [
    "d = d[d['year'] <= 2020]\n",
    "d = d[d['year'] >= 1950]\n",
    "d = d.dropna(subset=['year', 'authors'])"
   ]
  },
  {
   "cell_type": "code",
   "execution_count": 5,
   "metadata": {},
   "outputs": [
    {
     "name": "stdout",
     "output_type": "stream",
     "text": [
      "[########################################] | 100% Completed | 40min 38.9s\n"
     ]
    }
   ],
   "source": [
    "# def temp_test(bla):\n",
    "#     return bla.apply(lambda x: x.authors.count(',') + 1, meta=(int), axis=1)\n",
    "    \n",
    "# r = d.assign(n_authors=temp_test)\n",
    "\n",
    "# from dask.diagnostics import ProgressBar\n",
    "# with ProgressBar():\n",
    "#     r[['paper_id', 'n_authors']].to_csv('data/papers_number_of_authors', sep='\\t', header=None, index=False)"
   ]
  },
  {
   "cell_type": "code",
   "execution_count": 5,
   "metadata": {},
   "outputs": [
    {
     "data": {
      "text/html": [
       "<div>\n",
       "<style scoped>\n",
       "    .dataframe tbody tr th:only-of-type {\n",
       "        vertical-align: middle;\n",
       "    }\n",
       "\n",
       "    .dataframe tbody tr th {\n",
       "        vertical-align: top;\n",
       "    }\n",
       "\n",
       "    .dataframe thead th {\n",
       "        text-align: right;\n",
       "    }\n",
       "</style>\n",
       "<table border=\"1\" class=\"dataframe\">\n",
       "  <thead>\n",
       "    <tr style=\"text-align: right;\">\n",
       "      <th></th>\n",
       "      <th>number_of_authors</th>\n",
       "    </tr>\n",
       "    <tr>\n",
       "      <th>paper_id</th>\n",
       "      <th></th>\n",
       "    </tr>\n",
       "  </thead>\n",
       "  <tbody>\n",
       "    <tr>\n",
       "      <th>9</th>\n",
       "      <td>1</td>\n",
       "    </tr>\n",
       "    <tr>\n",
       "      <th>15</th>\n",
       "      <td>2</td>\n",
       "    </tr>\n",
       "    <tr>\n",
       "      <th>23</th>\n",
       "      <td>3</td>\n",
       "    </tr>\n",
       "    <tr>\n",
       "      <th>58</th>\n",
       "      <td>2</td>\n",
       "    </tr>\n",
       "    <tr>\n",
       "      <th>79</th>\n",
       "      <td>2</td>\n",
       "    </tr>\n",
       "  </tbody>\n",
       "</table>\n",
       "</div>"
      ],
      "text/plain": [
       "          number_of_authors\n",
       "paper_id                   \n",
       "9                         1\n",
       "15                        2\n",
       "23                        3\n",
       "58                        2\n",
       "79                        2"
      ]
     },
     "execution_count": 5,
     "metadata": {},
     "output_type": "execute_result"
    }
   ],
   "source": [
    "papers_number_of_authors = dd.read_csv('data/papers_number_of_authors/*', sep='\\t', header=None)\n",
    "papers_number_of_authors.columns = ['paper_id', 'number_of_authors']\n",
    "papers_number_of_authors = papers_number_of_authors.set_index('paper_id', sorted=True)\n",
    "papers_number_of_authors.head()"
   ]
  },
  {
   "cell_type": "code",
   "execution_count": 6,
   "metadata": {},
   "outputs": [
    {
     "data": {
      "text/html": [
       "<div>\n",
       "<style scoped>\n",
       "    .dataframe tbody tr th:only-of-type {\n",
       "        vertical-align: middle;\n",
       "    }\n",
       "\n",
       "    .dataframe tbody tr th {\n",
       "        vertical-align: top;\n",
       "    }\n",
       "\n",
       "    .dataframe thead th {\n",
       "        text-align: right;\n",
       "    }\n",
       "</style>\n",
       "<table border=\"1\" class=\"dataframe\">\n",
       "  <thead>\n",
       "    <tr style=\"text-align: right;\">\n",
       "      <th></th>\n",
       "      <th>paper_id</th>\n",
       "      <th>parent_id</th>\n",
       "    </tr>\n",
       "  </thead>\n",
       "  <tbody>\n",
       "    <tr>\n",
       "      <th>0</th>\n",
       "      <td>15</td>\n",
       "      <td>{\"138885662\": 0.25, \"142362112\": 0.25, \"177444...</td>\n",
       "    </tr>\n",
       "    <tr>\n",
       "      <th>1</th>\n",
       "      <td>23</td>\n",
       "      <td>{\"71924100\": 0.8, \"86803240\": 0.15, \"185592680...</td>\n",
       "    </tr>\n",
       "    <tr>\n",
       "      <th>2</th>\n",
       "      <td>58</td>\n",
       "      <td>{\"33923547\": 0.2, \"121332964\": 0.6000000000000...</td>\n",
       "    </tr>\n",
       "    <tr>\n",
       "      <th>3</th>\n",
       "      <td>79</td>\n",
       "      <td>{\"86803240\": 0.4, \"185592680\": 0.1, \"71924100\"...</td>\n",
       "    </tr>\n",
       "    <tr>\n",
       "      <th>4</th>\n",
       "      <td>108</td>\n",
       "      <td>{\"138885662\": 0.525, \"142362112\": 0.3666666666...</td>\n",
       "    </tr>\n",
       "  </tbody>\n",
       "</table>\n",
       "</div>"
      ],
      "text/plain": [
       "   paper_id                                          parent_id\n",
       "0        15  {\"138885662\": 0.25, \"142362112\": 0.25, \"177444...\n",
       "1        23  {\"71924100\": 0.8, \"86803240\": 0.15, \"185592680...\n",
       "2        58  {\"33923547\": 0.2, \"121332964\": 0.6000000000000...\n",
       "3        79  {\"86803240\": 0.4, \"185592680\": 0.1, \"71924100\"...\n",
       "4       108  {\"138885662\": 0.525, \"142362112\": 0.3666666666..."
      ]
     },
     "execution_count": 6,
     "metadata": {},
     "output_type": "execute_result"
    }
   ],
   "source": [
    "fos_papers = dd.read_csv('data/PaperFOS_split/paper_fos_dict*', sep='\\t', header=None)\n",
    "fos_papers.columns = ['paper_id', 'parent_id']\n",
    "fos_papers = fos_papers.dropna(subset=['parent_id'])\n",
    "fos_papers.head()"
   ]
  },
  {
   "cell_type": "code",
   "execution_count": 7,
   "metadata": {},
   "outputs": [
    {
     "name": "stdout",
     "output_type": "stream",
     "text": [
      "     paper_id  number_of_authors  \\\n",
      "0  2796953996                  1   \n",
      "1  2796963714                  1   \n",
      "2  2796964691                  2   \n",
      "3  2796964893                  2   \n",
      "4  2796965166                  1   \n",
      "\n",
      "                                           parent_id  \n",
      "0  {\"138885662\": 0.25, \"142362112\": 0.58333333333...  \n",
      "1                                  {\"71924100\": 1.0}  \n",
      "2  {\"17744445\": 0.14285714285714285, \"162324750\":...  \n",
      "3  {\"127413603\": 0.1111111111111111, \"41008148\": ...  \n",
      "4  {\"17744445\": 0.5, \"162324750\": 0.25, \"14402440...  \n"
     ]
    }
   ],
   "source": [
    "papers_num_authors = defaultdict(lambda:[])\n",
    "\n",
    "with ProgressBar():\n",
    "    temp = papers_number_of_authors.merge(fos_papers, on='paper_id')\n",
    "print(temp.head())"
   ]
  },
  {
   "cell_type": "code",
   "execution_count": null,
   "metadata": {},
   "outputs": [],
   "source": [
    "temp.to_csv('paper_fields_number_of_authors', sep='\\t', single_file=True)"
   ]
  },
  {
   "cell_type": "code",
   "execution_count": 2,
   "metadata": {},
   "outputs": [],
   "source": [
    "SUFFIX = 2020\n",
    "C1 = json.load(open('results/cits_10a_full_%d.json' % SUFFIX))\n",
    "P1 = json.load(open('results/papers_10a_full_%d.json' % SUFFIX))\n",
    "C2 = json.load(open('results/cits_full_%d.json' % SUFFIX))\n",
    "P2 = json.load(open('results/papers_full_%d.json' % SUFFIX))"
   ]
  },
  {
   "cell_type": "code",
   "execution_count": 3,
   "metadata": {},
   "outputs": [
    {
     "data": {
      "text/plain": [
       "2630275"
      ]
     },
     "execution_count": 3,
     "metadata": {},
     "output_type": "execute_result"
    }
   ],
   "source": [
    "len(C1)"
   ]
  },
  {
   "cell_type": "code",
   "execution_count": 4,
   "metadata": {
    "collapsed": true,
    "jupyter": {
     "outputs_hidden": true
    }
   },
   "outputs": [
    {
     "data": {
      "text/plain": [
       "1289417"
      ]
     },
     "execution_count": 4,
     "metadata": {},
     "output_type": "execute_result"
    }
   ],
   "source": [
    "len(C2)"
   ]
  },
  {
   "cell_type": "code",
   "execution_count": 4,
   "metadata": {},
   "outputs": [
    {
     "data": {
      "text/html": [
       "<div>\n",
       "<style scoped>\n",
       "    .dataframe tbody tr th:only-of-type {\n",
       "        vertical-align: middle;\n",
       "    }\n",
       "\n",
       "    .dataframe tbody tr th {\n",
       "        vertical-align: top;\n",
       "    }\n",
       "\n",
       "    .dataframe thead th {\n",
       "        text-align: right;\n",
       "    }\n",
       "</style>\n",
       "<table border=\"1\" class=\"dataframe\">\n",
       "  <thead>\n",
       "    <tr style=\"text-align: right;\">\n",
       "      <th></th>\n",
       "      <th>Unnamed: 0</th>\n",
       "      <th>paper_id</th>\n",
       "      <th>number_of_authors</th>\n",
       "      <th>parent_id</th>\n",
       "    </tr>\n",
       "  </thead>\n",
       "  <tbody>\n",
       "    <tr>\n",
       "      <th>0</th>\n",
       "      <td>0</td>\n",
       "      <td>2793762076</td>\n",
       "      <td>3</td>\n",
       "      <td>{\"41008148\": 0.5999999999999999, \"127413603\": ...</td>\n",
       "    </tr>\n",
       "    <tr>\n",
       "      <th>1</th>\n",
       "      <td>1</td>\n",
       "      <td>2793769416</td>\n",
       "      <td>3</td>\n",
       "      <td>{\"71924100\": 0.8095238095238095, \"86803240\": 0...</td>\n",
       "    </tr>\n",
       "    <tr>\n",
       "      <th>2</th>\n",
       "      <td>2</td>\n",
       "      <td>2793771443</td>\n",
       "      <td>2</td>\n",
       "      <td>{\"121332964\": 0.5, \"86803240\": 0.25, \"18559268...</td>\n",
       "    </tr>\n",
       "    <tr>\n",
       "      <th>3</th>\n",
       "      <td>3</td>\n",
       "      <td>2793775085</td>\n",
       "      <td>4</td>\n",
       "      <td>{\"33923547\": 0.9083333333333334, \"127413603\": ...</td>\n",
       "    </tr>\n",
       "    <tr>\n",
       "      <th>4</th>\n",
       "      <td>4</td>\n",
       "      <td>2793776991</td>\n",
       "      <td>1</td>\n",
       "      <td>{\"138885662\": 0.16999999999999998, \"86803240\":...</td>\n",
       "    </tr>\n",
       "  </tbody>\n",
       "</table>\n",
       "</div>"
      ],
      "text/plain": [
       "   Unnamed: 0    paper_id  number_of_authors  \\\n",
       "0           0  2793762076                  3   \n",
       "1           1  2793769416                  3   \n",
       "2           2  2793771443                  2   \n",
       "3           3  2793775085                  4   \n",
       "4           4  2793776991                  1   \n",
       "\n",
       "                                           parent_id  \n",
       "0  {\"41008148\": 0.5999999999999999, \"127413603\": ...  \n",
       "1  {\"71924100\": 0.8095238095238095, \"86803240\": 0...  \n",
       "2  {\"121332964\": 0.5, \"86803240\": 0.25, \"18559268...  \n",
       "3  {\"33923547\": 0.9083333333333334, \"127413603\": ...  \n",
       "4  {\"138885662\": 0.16999999999999998, \"86803240\":...  "
      ]
     },
     "execution_count": 4,
     "metadata": {},
     "output_type": "execute_result"
    }
   ],
   "source": [
    "import pandas as pd\n",
    "temp = dd.read_csv('temp/paper_fields_number_of_authors', sep='\\t')\n",
    "temp.head()"
   ]
  },
  {
   "cell_type": "code",
   "execution_count": null,
   "metadata": {},
   "outputs": [],
   "source": [
    "# papers_fos_authors = defaultdict(lambda:defaultdict(lambda:0))\n",
    "# for idx, row in temp.iterrows():\n",
    "#     fos = json.loads(row['parent_id'])\n",
    "#     for f,w in fos.items():\n",
    "#         papers_fos_authors[f][row['number_of_authors']] += 1"
   ]
  },
  {
   "cell_type": "code",
   "execution_count": 5,
   "metadata": {},
   "outputs": [],
   "source": [
    "temp = temp[temp['number_of_authors'] <= 10].groupby('number_of_authors').count()"
   ]
  },
  {
   "cell_type": "code",
   "execution_count": 14,
   "metadata": {},
   "outputs": [
    {
     "data": {
      "text/html": [
       "<div>\n",
       "<style scoped>\n",
       "    .dataframe tbody tr th:only-of-type {\n",
       "        vertical-align: middle;\n",
       "    }\n",
       "\n",
       "    .dataframe tbody tr th {\n",
       "        vertical-align: top;\n",
       "    }\n",
       "\n",
       "    .dataframe thead th {\n",
       "        text-align: right;\n",
       "    }\n",
       "</style>\n",
       "<table border=\"1\" class=\"dataframe\">\n",
       "  <thead>\n",
       "    <tr style=\"text-align: right;\">\n",
       "      <th></th>\n",
       "      <th>Unnamed: 0</th>\n",
       "      <th>paper_id</th>\n",
       "      <th>parent_id</th>\n",
       "    </tr>\n",
       "    <tr>\n",
       "      <th>number_of_authors</th>\n",
       "      <th></th>\n",
       "      <th></th>\n",
       "      <th></th>\n",
       "    </tr>\n",
       "  </thead>\n",
       "  <tbody>\n",
       "    <tr>\n",
       "      <th>1</th>\n",
       "      <td>87700674</td>\n",
       "      <td>87700674</td>\n",
       "      <td>87700674</td>\n",
       "    </tr>\n",
       "    <tr>\n",
       "      <th>2</th>\n",
       "      <td>40213940</td>\n",
       "      <td>40213940</td>\n",
       "      <td>40213940</td>\n",
       "    </tr>\n",
       "    <tr>\n",
       "      <th>3</th>\n",
       "      <td>28593371</td>\n",
       "      <td>28593371</td>\n",
       "      <td>28593371</td>\n",
       "    </tr>\n",
       "    <tr>\n",
       "      <th>4</th>\n",
       "      <td>19074628</td>\n",
       "      <td>19074628</td>\n",
       "      <td>19074628</td>\n",
       "    </tr>\n",
       "    <tr>\n",
       "      <th>5</th>\n",
       "      <td>12292853</td>\n",
       "      <td>12292853</td>\n",
       "      <td>12292853</td>\n",
       "    </tr>\n",
       "    <tr>\n",
       "      <th>6</th>\n",
       "      <td>8240556</td>\n",
       "      <td>8240556</td>\n",
       "      <td>8240556</td>\n",
       "    </tr>\n",
       "    <tr>\n",
       "      <th>7</th>\n",
       "      <td>4867624</td>\n",
       "      <td>4867624</td>\n",
       "      <td>4867624</td>\n",
       "    </tr>\n",
       "    <tr>\n",
       "      <th>8</th>\n",
       "      <td>3329754</td>\n",
       "      <td>3329754</td>\n",
       "      <td>3329754</td>\n",
       "    </tr>\n",
       "    <tr>\n",
       "      <th>9</th>\n",
       "      <td>2037600</td>\n",
       "      <td>2037600</td>\n",
       "      <td>2037600</td>\n",
       "    </tr>\n",
       "    <tr>\n",
       "      <th>10</th>\n",
       "      <td>1569059</td>\n",
       "      <td>1569059</td>\n",
       "      <td>1569059</td>\n",
       "    </tr>\n",
       "  </tbody>\n",
       "</table>\n",
       "</div>"
      ],
      "text/plain": [
       "                   Unnamed: 0  paper_id  parent_id\n",
       "number_of_authors                                 \n",
       "1                    87700674  87700674   87700674\n",
       "2                    40213940  40213940   40213940\n",
       "3                    28593371  28593371   28593371\n",
       "4                    19074628  19074628   19074628\n",
       "5                    12292853  12292853   12292853\n",
       "6                     8240556   8240556    8240556\n",
       "7                     4867624   4867624    4867624\n",
       "8                     3329754   3329754    3329754\n",
       "9                     2037600   2037600    2037600\n",
       "10                    1569059   1569059    1569059"
      ]
     },
     "execution_count": 14,
     "metadata": {},
     "output_type": "execute_result"
    }
   ],
   "source": [
    "temp.head(10)"
   ]
  },
  {
   "cell_type": "code",
   "execution_count": 6,
   "metadata": {},
   "outputs": [],
   "source": [
    "x = []\n",
    "y = []\n",
    "for idx, row in temp.iterrows():\n",
    "    x.append(idx)\n",
    "    y.append(row[0])"
   ]
  },
  {
   "cell_type": "code",
   "execution_count": 16,
   "metadata": {},
   "outputs": [
    {
     "data": {
      "text/plain": [
       "[1, 2, 3, 4, 5, 6, 7, 8, 9, 10]"
      ]
     },
     "execution_count": 16,
     "metadata": {},
     "output_type": "execute_result"
    }
   ],
   "source": [
    "x"
   ]
  },
  {
   "cell_type": "code",
   "execution_count": 17,
   "metadata": {},
   "outputs": [
    {
     "data": {
      "text/plain": [
       "[87700674,\n",
       " 40213940,\n",
       " 28593371,\n",
       " 19074628,\n",
       " 12292853,\n",
       " 8240556,\n",
       " 4867624,\n",
       " 3329754,\n",
       " 2037600,\n",
       " 1569059]"
      ]
     },
     "execution_count": 17,
     "metadata": {},
     "output_type": "execute_result"
    }
   ],
   "source": [
    "y"
   ]
  },
  {
   "cell_type": "code",
   "execution_count": 13,
   "metadata": {},
   "outputs": [
    {
     "data": {
      "image/png": "[encoded data removed]",
      "text/plain": [
       "<Figure size 432x288 with 1 Axes>"
      ]
     },
     "metadata": {
      "needs_background": "light"
     },
     "output_type": "display_data"
    }
   ],
   "source": [
    "import matplotlib.pyplot as plt\n",
    "from matplotlib.ticker import MaxNLocator\n",
    "\n",
    "plt.Figure(figsize=(9,3))\n",
    "plt.bar(x, y, color='gray')\n",
    "plt.yscale('log')\n",
    "plt.xlabel('number of authors', fontsize=14)\n",
    "plt.ylabel('number of papers', fontsize=14)\n",
    "plt.xticks(x, fontsize=12)\n",
    "plt.yticks(fontsize=12)\n",
    "\n",
    "plt.savefig('numberofauthors.pdf')"
   ]
  },
  {
   "cell_type": "code",
   "execution_count": 2,
   "metadata": {},
   "outputs": [],
   "source": [
    "import json\n",
    "\n",
    "SUFFIX = 2020\n",
    "SUFFIX_STR = '_%d' % SUFFIX\n",
    "\n",
    "H = json.load(open('results/hindex_10a_full_%d.json' % SUFFIX))\n",
    "C = json.load(open('results/cits_10a_full_%d.json' % SUFFIX))\n",
    "P = json.load(open('results/papers_10a_full_%d.json' % SUFFIX))\n",
    "WS = json.load(open('results/ws_10a_full_%d.json' % SUFFIX))\n",
    "WP = json.load(open('results/wp_10a_full_%d.json' % SUFFIX))\n",
    "CL = json.load(open('results/citlist_10a_full_%d.json' % SUFFIX))\n",
    "Y = json.load(open('results/birth_10a_full_%d.json' % SUFFIX))\n",
    "CH = json.load(open('results/ch_10a_full_%d.json' % SUFFIX))\n",
    "FOS = json.load(open('results/fos_10a_full_%d.json' % SUFFIX))"
   ]
  },
  {
   "cell_type": "code",
   "execution_count": 4,
   "metadata": {},
   "outputs": [],
   "source": [
    "Y = [len(x) for x in CL]"
   ]
  },
  {
   "cell_type": "code",
   "execution_count": 16,
   "metadata": {},
   "outputs": [
    {
     "name": "stdout",
     "output_type": "stream",
     "text": [
      "eita\n",
      "194.0\n",
      "eita\n",
      "87.0\n",
      "eita\n",
      "188.0\n",
      "eita\n",
      "185.0\n",
      "eita\n",
      "191.0\n",
      "eita\n",
      "190.0\n",
      "eita\n",
      "191.0\n",
      "eita\n",
      "192.0\n",
      "eita\n",
      "189.0\n",
      "eita\n",
      "194.0\n",
      "eita\n",
      "194.0\n"
     ]
    }
   ],
   "source": [
    "for c in C:\n",
    "    \n",
    "    if int(c) < 195:\n",
    "        print('eita')\n",
    "        print(c)"
   ]
  },
  {
   "cell_type": "code",
   "execution_count": 7,
   "metadata": {},
   "outputs": [
    {
     "data": {
      "text/plain": [
       "(array([   0,    1,    2,    3,    4,    5,    6,    7,    8,    9,   10,\n",
       "          11,   12,   13,   14,   15,   16,   17,   18,   19,   20,   21,\n",
       "          22,   23,   24,   25,   26,   27,   28,   29,   30,   31,   32,\n",
       "          33,   34,   35,   36,   37,   38,   39,   40,   41,   42,   43,\n",
       "          44,   45,   46,   47,   48,   49,   50,   51,   52,   53,   54,\n",
       "          55,   56,   57,   58,   59,   60,   61,   62,   63,   64,   65,\n",
       "          66,   67,   68,   69,   70,   71,   72,   73,   74,   75,   76,\n",
       "          77,   78,   79,   80,   81,   82,   83,   84,   85,   86,   87,\n",
       "          88,   89,   90,   91,   92,   93,   94,   95,   96,   97,   98,\n",
       "          99,  100,  101,  102,  103,  104,  105,  106,  107,  108,  109,\n",
       "         110,  111,  112,  113,  114,  115,  116,  117,  118,  119,  120,\n",
       "         121,  122,  123,  124,  125,  126,  127,  128,  129,  130,  131,\n",
       "         132,  133,  134,  135,  136,  137,  138,  139,  140,  141,  142,\n",
       "         143,  144,  145,  146,  147,  148,  149,  150,  151,  152,  153,\n",
       "         154,  155,  156,  157,  158,  159,  160,  161,  162,  163,  164,\n",
       "         165,  166,  167,  168,  169,  170,  171,  172,  173,  174,  175,\n",
       "         176,  177,  178,  179,  180,  181,  182,  183,  184,  185,  186,\n",
       "         187,  188,  189,  190,  191,  192,  193,  194,  195,  196,  197,\n",
       "         198,  199,  200,  201,  202,  203,  204,  205,  206,  207,  208,\n",
       "         209,  210,  211,  212,  213,  214,  215,  216,  217,  218,  219,\n",
       "         220,  221,  222,  223,  224,  225,  226,  227,  228,  229,  230,\n",
       "         231,  232,  233,  234,  235,  236,  237,  238,  239,  240,  241,\n",
       "         242,  243,  244,  245,  246,  247,  248,  249,  250,  251,  252,\n",
       "         253,  254,  255,  256,  257,  258,  259,  260,  261,  262,  263,\n",
       "         264,  265,  266,  267,  268,  269,  270,  271,  272,  273,  274,\n",
       "         275,  276,  277,  278,  279,  280,  281,  282,  283,  284,  285,\n",
       "         286,  287,  288,  289,  290,  291,  292,  293,  294,  295,  296,\n",
       "         297,  298,  299,  300,  301,  302,  303,  304,  305,  306,  307,\n",
       "         308,  309,  310,  311,  312,  313,  314,  315,  316,  317,  318,\n",
       "         319,  320,  321,  322,  323,  324,  325,  326,  327,  328,  329,\n",
       "         330,  331,  332,  333,  334,  335,  336,  337,  338,  339,  340,\n",
       "         341,  342,  343,  344,  345,  346,  347,  348,  349,  350,  351,\n",
       "         352,  353,  354,  355,  356,  357,  358,  360,  361,  363,  364,\n",
       "         365,  366,  367,  368,  369,  370,  371,  372,  373,  374,  375,\n",
       "         376,  377,  378,  379,  380,  381,  382,  384,  385,  386,  387,\n",
       "         389,  390,  391,  392,  393,  394,  395,  396,  397,  398,  399,\n",
       "         400,  401,  402,  403,  404,  405,  406,  407,  410,  411,  412,\n",
       "         413,  414,  415,  416,  418,  420,  421,  422,  423,  424,  425,\n",
       "         427,  428,  429,  431,  432,  433,  435,  436,  438,  439,  441,\n",
       "         442,  443,  444,  447,  449,  450,  452,  454,  456,  458,  459,\n",
       "         460,  461,  462,  463,  464,  465,  467,  468,  470,  471,  472,\n",
       "         473,  474,  476,  478,  480,  482,  483,  485,  488,  489,  491,\n",
       "         497,  500,  503,  504,  505,  506,  507,  511,  512,  514,  516,\n",
       "         517,  518,  521,  522,  523,  525,  526,  528,  530,  532,  533,\n",
       "         534,  536,  537,  538,  543,  545,  550,  551,  557,  559,  560,\n",
       "         563,  565,  569,  571,  575,  576,  585,  588,  589,  591,  593,\n",
       "         596,  598,  603,  608,  611,  612,  614,  616,  617,  618,  620,\n",
       "         625,  628,  633,  636,  639,  640,  651,  652,  660,  667,  670,\n",
       "         676,  677,  679,  686,  689,  699,  706,  725,  753,  755,  763,\n",
       "         773,  776,  777,  780,  783,  786,  791,  795,  796,  807,  808,\n",
       "         812,  814,  815,  816,  825,  868,  869,  895,  950,  985,  987,\n",
       "        1136, 1175, 1242, 1299, 1312, 1361, 1403, 1760, 1930, 2192, 3196,\n",
       "        3475]),\n",
       " array([   627,  80723,  95189, 104549, 111582, 115189, 118311, 117992,\n",
       "        118724, 119358, 126532, 113858, 103186,  92478,  84304,  76331,\n",
       "         69511,  63955,  58403,  53131,  49149,  44906,  41326,  38710,\n",
       "         35785,  32710,  30408,  28528,  26326,  24539,  23094,  21540,\n",
       "         20105,  18855,  17895,  16805,  15344,  14457,  13994,  13007,\n",
       "         12168,  11568,  10948,  10217,   9744,   9326,   8732,   8257,\n",
       "          8015,   7548,   7110,   6807,   6426,   6130,   5843,   5682,\n",
       "          5114,   5053,   4777,   4586,   4385,   4316,   4053,   3893,\n",
       "          3682,   3465,   3282,   3186,   2961,   2966,   2760,   2637,\n",
       "          2586,   2569,   2527,   2393,   2186,   2121,   2079,   2147,\n",
       "          1841,   1903,   1798,   1744,   1658,   1535,   1563,   1560,\n",
       "          1455,   1352,   1458,   1285,   1249,   1192,   1213,   1118,\n",
       "          1086,   1052,   1008,   1001,    942,    948,    861,    884,\n",
       "           861,    788,    802,    752,    787,    813,    673,    670,\n",
       "           623,    656,    579,    586,    565,    566,    495,    582,\n",
       "           470,    506,    456,    464,    459,    445,    414,    400,\n",
       "           414,    370,    416,    390,    397,    369,    336,    332,\n",
       "           293,    325,    282,    288,    327,    288,    291,    301,\n",
       "           301,    228,    237,    237,    246,    237,    220,    242,\n",
       "           225,    225,    198,    224,    185,    190,    187,    163,\n",
       "           230,    180,    173,    160,    165,    149,    134,    178,\n",
       "           152,    150,    179,    140,    163,    157,    129,    130,\n",
       "           145,    115,    145,    125,    101,    110,    114,    114,\n",
       "           111,    114,     93,    105,     84,    108,     79,     97,\n",
       "            83,    114,     96,     68,    101,     80,     79,     65,\n",
       "            81,     70,     64,     65,     65,     52,     62,     75,\n",
       "            49,     59,     63,     52,     49,     51,     49,     43,\n",
       "            52,     58,     48,     43,     45,     55,     59,     48,\n",
       "            48,     48,     49,     48,     45,     44,     51,     36,\n",
       "            39,     53,     43,     38,     43,     37,     38,     31,\n",
       "            29,     31,     25,     39,     25,     29,     30,     31,\n",
       "            22,     22,     39,     32,     19,     25,     36,     14,\n",
       "            19,     26,     21,     26,     25,     27,     25,     32,\n",
       "            24,     24,     14,     25,     16,     19,     11,     24,\n",
       "            16,     29,     19,     16,     24,     10,     18,     16,\n",
       "            16,     15,     18,     17,     12,     25,     22,     21,\n",
       "            22,     12,     11,     26,      6,     18,     14,     15,\n",
       "            10,     14,     19,     10,     11,     20,     12,     16,\n",
       "            20,     13,     16,      7,      6,     14,     13,      8,\n",
       "            15,      3,      9,      7,     19,      9,      5,     11,\n",
       "             6,     13,     18,      5,     15,      9,     14,     11,\n",
       "             6,      7,      6,      3,     16,     10,      7,      5,\n",
       "             5,      7,     11,      5,      1,      5,      8,     10,\n",
       "             4,      7,      5,      8,     11,      9,     10,      7,\n",
       "            10,      5,     14,      4,      7,      4,      5,      6,\n",
       "             5,      8,      7,     14,      6,      4,     10,      7,\n",
       "             5,      4,      9,      6,      3,      1,      1,      1,\n",
       "             7,      3,      9,      5,      2,      5,     11,      1,\n",
       "             5,     10,      8,      9,      1,      9,      3,      1,\n",
       "             4,      4,      3,      4,      4,      6,      6,      5,\n",
       "             6,      3,      5,      2,      3,      2,      2,      5,\n",
       "             5,      1,      3,      6,      4,      4,      4,      4,\n",
       "             2,      2,      2,      2,      1,      3,      3,      2,\n",
       "             3,      4,      2,      3,      4,      2,      2,      4,\n",
       "             1,      5,      4,      4,      3,      3,      6,      2,\n",
       "             2,      4,      3,      1,      2,      2,      3,      3,\n",
       "             2,      2,      4,      3,      4,      2,      1,      3,\n",
       "             3,      4,      2,      2,      5,      2,      1,      4,\n",
       "             2,      2,      3,      1,      1,      4,      4,      1,\n",
       "             4,      2,      4,      2,      3,      4,      2,      2,\n",
       "             4,      1,      3,      5,      1,      2,      3,      1,\n",
       "             4,      3,      1,      2,      2,      2,      2,      2,\n",
       "             2,      2,      2,      1,      2,      3,      2,      2,\n",
       "             2,      2,      2,      3,      2,      1,      2,      2,\n",
       "             5,      2,      2,      2,      2,      2,      2,      1,\n",
       "             1,      2,      4,      2,      4,      1,      1,      2,\n",
       "             1,      2,      2,      2,      1,      2,      2,      4,\n",
       "             2,      1,      4,      1,      2,      2,      1,      2,\n",
       "             2,      2,      2,      2,      4,      2,      2,      2,\n",
       "             2,      2,      2,      2,      2,      2,      1,      2,\n",
       "             1,      2,      1,      2,      2,      2,      1,      2,\n",
       "             2,      1,      2,      1,      2]))"
      ]
     },
     "execution_count": 7,
     "metadata": {},
     "output_type": "execute_result"
    }
   ],
   "source": [
    "u,c"
   ]
  },
  {
   "cell_type": "code",
   "execution_count": 20,
   "metadata": {},
   "outputs": [],
   "source": [
    "SUFFIX = 2020\n",
    "SUFFIX_STR = '_%d' % SUFFIX\n",
    "\n",
    "C = json.load(open('results/cits_rev1_full_%d.json' % SUFFIX))\n",
    "P = json.load(open('results/papers_rev1_full_%d.json' % SUFFIX))"
   ]
  },
  {
   "cell_type": "code",
   "execution_count": 22,
   "metadata": {},
   "outputs": [
    {
     "name": "stdout",
     "output_type": "stream",
     "text": [
      "eita\n",
      "1\n"
     ]
    }
   ],
   "source": [
    "for c in P:\n",
    "    \n",
    "    if int(c) < 195:\n",
    "        print('eita')\n",
    "        print(c)\n",
    "        break"
   ]
  },
  {
   "cell_type": "code",
   "execution_count": null,
   "metadata": {},
   "outputs": [],
   "source": []
  }
 ],
 "metadata": {
  "kernelspec": {
   "display_name": "Python 3 (ipykernel)",
   "language": "python",
   "name": "python3"
  },
  "language_info": {
   "codemirror_mode": {
    "name": "ipython",
    "version": 3
   },
   "file_extension": ".py",
   "mimetype": "text/x-python",
   "name": "python",
   "nbconvert_exporter": "python",
   "pygments_lexer": "ipython3",
   "version": "3.8.3"
  }
 },
 "nbformat": 4,
 "nbformat_minor": 4
}
